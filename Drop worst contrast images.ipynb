{
 "cells": [
  {
   "cell_type": "code",
   "execution_count": 21,
   "id": "c0c23696-4f6f-42d2-a14d-2bf5540745e4",
   "metadata": {},
   "outputs": [],
   "source": [
    "import cv2\n",
    "import numpy as np\n",
    "from tiffConverter import convert_to_numpy, convert_to_tiff\n",
    "import matplotlib.pyplot as plt"
   ]
  },
  {
   "cell_type": "code",
   "execution_count": 22,
   "id": "68fd49a8-8d3c-476e-b889-276de55ccdb1",
   "metadata": {},
   "outputs": [],
   "source": [
    "aligned_proj_location = \"alignedProjections/aligned_foamTomo20240731-115419.tif\"\n",
    "kevinProjections, kevin_proj_scale_info = convert_to_numpy(aligned_proj_location)"
   ]
  },
  {
   "cell_type": "code",
   "execution_count": 23,
   "id": "ea6ffc3c-30b6-463d-9831-66172ca8315e",
   "metadata": {},
   "outputs": [],
   "source": [
    "def edge_contrast_score(image):\n",
    "    if image.dtype != np.uint8:\n",
    "        # Normalize the image to the range [0, 255] and convert to uint8\n",
    "        image = cv2.normalize(image, None, 0, 255, cv2.NORM_MINMAX)\n",
    "        image = image.astype(np.uint8)\n",
    "        \n",
    "    # Edge detection using Canny\n",
    "    edges = cv2.Canny(image, 100, 200)\n",
    "    \n",
    "    # Calculate edge score (e.g., the mean value of edges)\n",
    "    edge_score = np.mean(edges)\n",
    "    \n",
    "    # Calculate contrast score (standard deviation of pixel intensities)\n",
    "    contrast_score = np.std(image)\n",
    "    \n",
    "    # Combine the scores\n",
    "    total_score = edge_score + contrast_score\n",
    "    \n",
    "    return total_score, edge_score, contrast_score"
   ]
  },
  {
   "cell_type": "code",
   "execution_count": 24,
   "id": "3c5ed2de-93b5-49a3-bb67-70abccf5722a",
   "metadata": {},
   "outputs": [
    {
     "name": "stdout",
     "output_type": "stream",
     "text": [
      "7.471306750521609\n"
     ]
    }
   ],
   "source": [
    "scoreValues = []\n",
    "for i in range(kevinProjections.shape[0]):\n",
    "    scoreValues.append(edge_contrast_score(kevinProjections[i])[0])\n",
    "\n",
    "percentile10 = np.percentile(scoreValues, 10)\n",
    "print(percentile10)"
   ]
  },
  {
   "cell_type": "code",
   "execution_count": 25,
   "id": "73f71482-2041-49de-a87b-2d537c3779b0",
   "metadata": {},
   "outputs": [
    {
     "data": {
      "image/png": "[encoded data removed]",
      "text/plain": [
       "<Figure size 640x480 with 1 Axes>"
      ]
     },
     "metadata": {},
     "output_type": "display_data"
    }
   ],
   "source": [
    "# Create a histogram\n",
    "plt.hist(scoreValues, bins=50, edgecolor='black', log=False)  # 'bins' defines the number of bins in the histogram\n",
    "\n",
    "# Add labels and title\n",
    "plt.xlabel('Score')\n",
    "plt.ylabel('Frequency')\n",
    "plt.title('Histogram of Image Score')\n",
    "\n",
    "# Show the plot\n",
    "plt.show()"
   ]
  },
  {
   "cell_type": "code",
   "execution_count": 26,
   "id": "32badf0e-7f09-4575-b5de-dc4f346b89fd",
   "metadata": {},
   "outputs": [],
   "source": [
    "angles = np.arange(0.45, 360.45, 0.45).tolist()\n",
    "scoreValuesCopy = scoreValues.copy()\n",
    "kevinProjectionsCopy = kevinProjections.copy().tolist()\n",
    "\n",
    "runsToRemove = []\n",
    "for i in range(800):\n",
    "    if scoreValues[i] < percentile10:\n",
    "        runsToRemove.append(i)\n",
    "\n",
    "runsToRemove.reverse()"
   ]
  },
  {
   "cell_type": "code",
   "execution_count": 27,
   "id": "62a298f4-0d00-4b47-84b4-d004212d15ab",
   "metadata": {
    "scrolled": true
   },
   "outputs": [
    {
     "name": "stdout",
     "output_type": "stream",
     "text": [
      "720\n",
      "800\n"
     ]
    }
   ],
   "source": [
    "for indx in runsToRemove:\n",
    "    scoreValuesCopy.pop(indx)\n",
    "    kevinProjectionsCopy.pop(indx)\n",
    "    angles.pop(indx)\n",
    "\n",
    "print(len(angles))\n",
    "print(len(kevinProjections))"
   ]
  },
  {
   "cell_type": "code",
   "execution_count": 28,
   "id": "9fc81573-6b3a-4983-8822-a7e9dcb6d4a0",
   "metadata": {},
   "outputs": [],
   "source": [
    "convert_to_tiff(np.array(kevinProjectionsCopy), \"/Users/levih/Desktop/TomoMono/data/TomoReconstructions90p.tif\")\n",
    "np.save('/Users/levih/Desktop/TomoMono/data/angles_90p.npy', angles)\n"
   ]
  },
  {
   "cell_type": "code",
   "execution_count": 29,
   "id": "3e3747f8-7f04-491e-b697-06aed6a89ce3",
   "metadata": {},
   "outputs": [
    {
     "name": "stdout",
     "output_type": "stream",
     "text": [
      "[0.         0.33069396 0.66138793 0.99208189 1.32277585 1.65346982\n",
      " 1.98416378 2.31485774 2.64555171 2.97624567 3.30693964 3.6376336\n",
      " 3.96832756 4.29902153 4.62971549 4.96040945 5.29110342 5.62179738\n",
      " 5.95249134 6.28318531]\n",
      "<class 'numpy.ndarray'>\n",
      "<class 'numpy.ndarray'>\n",
      "720\n",
      "[  0.45   0.9    1.35   1.8    2.7    3.15   3.6    4.05   4.5    5.4\n",
      "   5.85   6.3    6.75   7.2    7.65   8.1    8.55   9.     9.9   10.35\n",
      "  10.8   11.25  11.7   12.15  12.6   13.05  13.5   13.95  14.4   15.3\n",
      "  15.75  16.2   16.65  17.1   17.55  18.    18.45  18.9   19.35  19.8\n",
      "  20.25  20.7   21.6   22.05  22.5   22.95  23.4   23.85  24.3   24.75\n",
      "  25.2   25.65  26.1   26.55  27.    27.45  27.9   28.35  28.8   29.7\n",
      "  30.6   31.05  31.5   32.4   33.3   33.75  34.2   34.65  35.1   35.55\n",
      "  36.    36.45  36.9   37.35  37.8   38.25  38.7   39.15  39.6   40.05\n",
      "  40.5   40.95  41.4   42.3   42.75  43.2   43.65  44.1   44.55  45.\n",
      "  45.45  45.9   46.35  46.8   47.25  47.7   48.15  48.6   49.05  49.5\n",
      "  49.95  50.4   50.85  51.3   51.75  52.2   52.65  53.1   53.55  54.\n",
      "  54.45  54.9   55.35  55.8   56.25  56.7   57.15  57.6   58.05  58.5\n",
      "  58.95  59.4   59.85  60.3   60.75  61.2   61.65  62.1   63.    63.45\n",
      "  63.9   64.35  64.8   65.25  65.7   66.15  66.6   67.05  67.5   67.95\n",
      "  68.4   68.85  69.3   69.75  70.2   71.1   71.55  72.    72.45  72.9\n",
      "  73.35  73.8   74.25  74.7   75.6   76.5   76.95  77.4   77.85  78.3\n",
      "  78.75  79.2   79.65  80.1   81.    81.45  81.9   82.35  82.8   83.25\n",
      "  83.7   84.15  84.6   85.05  85.5   85.95  86.4   86.85  87.3   87.75\n",
      "  88.2   88.65  89.1   89.55  90.    90.9   91.35  91.8   92.25  92.7\n",
      "  93.15  93.6   94.05  94.5   94.95  95.4   96.3   97.2   98.1   98.55\n",
      "  99.    99.9  100.35 100.8  101.7  102.15 102.6  103.5  103.95 104.4\n",
      " 104.85 105.75 106.2  106.65 107.1  107.55 108.   108.45 108.9  109.8\n",
      " 110.25 110.7  111.15 111.6  112.05 112.5  112.95 113.4  113.85 114.3\n",
      " 114.75 115.2  115.65 116.1  116.55 117.   117.45 117.9  118.35 118.8\n",
      " 119.25 119.7  120.15 120.6  121.05 121.5  121.95 122.4  122.85 123.3\n",
      " 123.75 124.2  124.65 125.1  125.55 126.   126.45 126.9  127.35 127.8\n",
      " 128.25 128.7  129.15 129.6  130.05 130.5  130.95 131.4  132.3  132.75\n",
      " 133.65 134.1  134.55 135.   136.35 136.8  137.25 137.7  138.6  139.5\n",
      " 140.4  140.85 141.3  141.75 142.2  143.1  143.55 144.   144.9  145.8\n",
      " 146.7  147.15 147.6  148.05 148.5  148.95 149.4  149.85 150.3  150.75\n",
      " 151.2  151.65 152.1  152.55 153.   153.45 153.9  154.35 154.8  155.7\n",
      " 156.15 156.6  157.05 157.5  157.95 158.4  158.85 159.3  159.75 160.2\n",
      " 161.1  161.55 162.   162.45 162.9  163.35 163.8  164.25 164.7  165.15\n",
      " 165.6  166.05 166.5  166.95 167.4  167.85 168.3  169.2  169.65 170.1\n",
      " 170.55 171.   171.45 171.9  172.35 172.8  173.25 173.7  174.15 174.6\n",
      " 175.05 175.5  175.95 176.4  176.85 177.3  177.75 178.2  178.65 179.1\n",
      " 179.55 180.   180.45 180.9  181.35 181.8  182.7  183.15 183.6  184.05\n",
      " 184.5  184.95 185.4  186.3  187.2  187.65 188.1  188.55 189.   189.45\n",
      " 189.9  190.35 190.8  191.25 191.7  192.6  193.5  193.95 194.4  195.3\n",
      " 196.2  196.65 197.1  197.55 198.   198.45 198.9  199.35 199.8  200.25\n",
      " 200.7  201.6  202.05 202.5  202.95 203.4  203.85 204.3  204.75 205.2\n",
      " 205.65 206.1  206.55 207.   207.45 207.9  208.35 208.8  209.25 209.7\n",
      " 210.15 211.05 211.5  211.95 212.4  212.85 213.3  213.75 214.2  214.65\n",
      " 215.1  215.55 216.   216.45 216.9  217.8  218.25 218.7  219.15 219.6\n",
      " 220.05 220.5  220.95 221.4  221.85 222.3  223.2  223.65 224.1  224.55\n",
      " 225.   225.45 225.9  226.35 226.8  227.25 227.7  228.15 228.6  229.05\n",
      " 229.5  229.95 230.4  230.85 231.3  231.75 232.2  232.65 233.1  233.55\n",
      " 234.   234.45 234.9  235.35 235.8  236.25 236.7  237.15 237.6  238.05\n",
      " 238.5  239.4  239.85 240.3  241.2  241.65 242.1  242.55 243.   243.45\n",
      " 243.9  244.35 244.8  245.7  246.15 246.6  247.05 247.5  247.95 248.4\n",
      " 248.85 249.3  249.75 250.2  251.1  251.55 252.   252.45 252.9  253.35\n",
      " 253.8  254.25 254.7  255.15 255.6  256.05 256.5  256.95 257.4  257.85\n",
      " 258.3  259.2  259.65 260.1  260.55 261.   261.45 261.9  262.35 262.8\n",
      " 263.25 263.7  264.15 264.6  265.05 265.5  265.95 266.4  267.3  268.2\n",
      " 269.1  269.55 270.45 270.9  271.35 271.8  272.25 272.7  273.6  274.5\n",
      " 274.95 275.4  276.3  276.75 277.2  277.65 278.1  279.   279.45 279.9\n",
      " 280.35 280.8  281.7  282.15 282.6  283.05 283.5  283.95 284.4  285.3\n",
      " 285.75 286.2  287.1  288.   288.45 288.9  289.35 289.8  290.25 290.7\n",
      " 291.15 291.6  292.5  292.95 293.4  293.85 294.3  294.75 295.2  295.65\n",
      " 296.1  296.55 297.   297.45 297.9  298.35 298.8  299.25 299.7  300.15\n",
      " 300.6  301.05 301.5  301.95 302.4  302.85 303.3  303.75 304.2  304.65\n",
      " 305.1  305.55 306.   306.9  307.35 307.8  308.25 308.7  309.6  310.05\n",
      " 310.5  310.95 311.4  311.85 312.3  312.75 313.2  313.65 314.1  315.\n",
      " 315.45 315.9  316.35 316.8  317.7  318.15 318.6  319.05 319.5  320.4\n",
      " 320.85 321.3  321.75 322.2  323.1  323.55 324.   324.45 324.9  325.35\n",
      " 325.8  326.25 326.7  327.15 327.6  328.5  329.4  329.85 330.3  330.75\n",
      " 331.2  331.65 332.1  332.55 333.   333.9  334.8  335.25 335.7  336.6\n",
      " 337.5  337.95 338.4  338.85 339.3  339.75 340.2  340.65 341.1  341.55\n",
      " 342.   342.45 342.9  343.35 343.8  344.25 344.7  345.15 345.6  346.05\n",
      " 346.5  346.95 347.4  347.85 348.3  348.75 349.2  349.65 350.1  350.55\n",
      " 351.   351.45 351.9  352.35 352.8  353.25 353.7  354.15 354.6  355.05\n",
      " 355.5  355.95 356.4  356.85 357.3  357.75 358.2  359.1  359.55 360.  ]\n"
     ]
    }
   ],
   "source": [
    "import tomopy\n",
    "ang = tomopy.angles(20, 0, 360)\n",
    "print(ang)\n",
    "print(type(ang))\n",
    "new = np.load('/Users/levih/Desktop/TomoMono/data/angles_90p.npy')\n",
    "print(type(new))\n",
    "print(len(new))\n",
    "print(new)\n"
   ]
  },
  {
   "cell_type": "code",
   "execution_count": null,
   "id": "9caba602-3716-4518-b25e-2d1d2e7c84c8",
   "metadata": {},
   "outputs": [],
   "source": []
  }
 ],
 "metadata": {
  "kernelspec": {
   "display_name": "Python 3 (ipykernel)",
   "language": "python",
   "name": "python3"
  },
  "language_info": {
   "codemirror_mode": {
    "name": "ipython",
    "version": 3
   },
   "file_extension": ".py",
   "mimetype": "text/x-python",
   "name": "python",
   "nbconvert_exporter": "python",
   "pygments_lexer": "ipython3",
   "version": "3.12.3"
  }
 },
 "nbformat": 4,
 "nbformat_minor": 5
}
