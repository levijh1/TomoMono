{
 "cells": [
  {
   "cell_type": "code",
   "execution_count": 1,
   "id": "11d19257-4714-4f26-a6f3-2965ea0f1e96",
   "metadata": {},
   "outputs": [
    {
     "name": "stdout",
     "output_type": "stream",
     "text": [
      "timestamp: 20250917-235121\n"
     ]
    }
   ],
   "source": [
    "import time\n",
    "import sys\n",
    "import tomoDataClass\n",
    "from datetime import datetime\n",
    "from helperFunctions import DualLogger, convert_to_tiff, subpixel_shift\n",
    "\n",
    "# -------------------------\n",
    "# CONFIGURATION FLAGS\n",
    "# -------------------------\n",
    "log = False # Set to True to enable logging output to a file\n",
    "saveToFile = True     # Set to True to save aligned projection data to a TIFF file\n",
    "\n",
    "# -------------------------\n",
    "# SETUP: Timing & Logging\n",
    "# -------------------------\n",
    "start_time = time.time()  # Start execution timer\n",
    "timestamp = datetime.now().strftime(\"%Y%m%d-%H%M%S\")  # Generate timestamp for filenames\n",
    "print(\"timestamp:\", timestamp)\n",
    "\n",
    "if log:\n",
    "    # Redirect stdout/stderr to both console and log file\n",
    "    sys.stdout = DualLogger(f'logs/output_tomoMono_align{timestamp}.txt', 'w')"
   ]
  },
  {
   "cell_type": "code",
   "execution_count": 2,
   "id": "dfd6044a-d2f1-4b21-8c4b-abd3b9979c06",
   "metadata": {},
   "outputs": [],
   "source": [
    "import h5py\n",
    "import numpy as np\n",
    "import matplotlib.pyplot as plt\n",
    "filename = r\"/Users/levihancock/Downloads/poly_tomo_128.hdf5\"\n",
    "\n",
    "indicesToRemove = [0,1,2,3,4,5,53,60,67,69,82,90,178,183,186, 209, 218, 219, 221, 224, 254, 258, 276, 278, 304, 306] + list(range(308,325)) ##Look out for 200, \n",
    "\n",
    "with h5py.File(filename, \"r\") as f:\n",
    "    data = np.array(f[\"/data\"])\n",
    "    angles = list(f[\"/angles\"])"
   ]
  },
  {
   "cell_type": "code",
   "execution_count": 3,
   "id": "3a2a5792-c9d8-48e5-adff-af9e741c68f8",
   "metadata": {},
   "outputs": [
    {
     "name": "stdout",
     "output_type": "stream",
     "text": [
      "data shape is:  (325, 662, 2322)\n",
      "angles shape is:  325\n",
      "data shape after removing is:  (71, 662, 2322)\n",
      "angles shape after removing is:  71\n"
     ]
    }
   ],
   "source": [
    "#removing images with holder in the way\n",
    "print(\"data shape is: \", data.shape)\n",
    "print(\"angles shape is: \", len(angles))\n",
    "# for index in reversed(indicesToRemove):\n",
    "#     print(index)\n",
    "data = np.delete(data, indicesToRemove, axis = 0)\n",
    "angles = np.delete(angles, indicesToRemove, axis = 0)\n",
    "\n",
    "data = data[::4]\n",
    "angles = angles[::4]\n",
    "print(\"data shape after removing is: \", data.shape)\n",
    "print(\"angles shape after removing is: \", len(angles))\n",
    "\n",
    "tomo = tomoDataClass.tomoData(data, angles)\n",
    "scale_info = None"
   ]
  },
  {
   "cell_type": "code",
   "execution_count": null,
   "id": "31348a3a-7eae-43ab-a3c0-db544559ffaf",
   "metadata": {},
   "outputs": [
    {
     "name": "stdout",
     "output_type": "stream",
     "text": [
      "Starting alignment\n",
      "\n",
      "\n",
      "Creating aligned projections: alignedProjections/APSbeamtime1/aligned_XC_20250917-235121.tif\n",
      "\n",
      "\n",
      "Shifting min values to middle\n"
     ]
    },
    {
     "name": "stderr",
     "output_type": "stream",
     "text": [
      "Shifting min to middle: 100%|███████████████████| 71/71 [00:24<00:00,  2.91it/s]\n"
     ]
    },
    {
     "name": "stdout",
     "output_type": "stream",
     "text": [
      "\n",
      "\n",
      "Cross-Correlation Alignment\n"
     ]
    },
    {
     "name": "stderr",
     "output_type": "stream",
     "text": [
      "Iteration 1/1: 100%|████████████████████████████| 70/70 [00:27<00:00,  2.53it/s]\n"
     ]
    },
    {
     "name": "stdout",
     "output_type": "stream",
     "text": [
      "Average pixel shift of iteration 1: 166.56734440606087\n",
      "Maximum iterations reached without convergence.\n",
      "\n",
      "\n",
      "Projection Matching Alignment (PMA)\n",
      "Centering Projections\n",
      "Original center: 656.0\n",
      "Center of frame: 600\n",
      "Aligned projections shifted by -56.0 pixels\n",
      "Projections are currently centered at pixel 618.25. Residual offset: 18.25\n",
      "Original center: 618.25\n",
      "Center of frame: 600\n",
      "Aligned projections shifted by -18.25 pixels\n",
      "Projections are currently centered at pixel 600.0. Residual offset: 0.0\n"
     ]
    },
    {
     "name": "stderr",
     "output_type": "stream",
     "text": [
      "PMA Algorithm iterations:   0%|                           | 0/1 [00:00<?, ?it/s]"
     ]
    }
   ],
   "source": [
    "print(\"Starting alignment\")\n",
    "\n",
    "savePath = f\"alignedProjections/APSbeamtime1/aligned_XC_{timestamp}.tif\"\n",
    "print(\"\\n\\nCreating aligned projections:\", savePath)\n",
    "\n",
    "# Ensure alignment begins from original, unmodified projections\n",
    "tomo.reset_workingProjections(x_size = data.shape[2], y_size=data.shape[1])\n",
    "\n",
    "# -------------------------\n",
    "# ALIGNMENT STRATEGY\n",
    "# -------------------------\n",
    "# Choose and configure alignment algorithm below:\n",
    "tomo.shift_min_to_middle()\n",
    "tomo.cross_correlate_align(tolerance=0.01, max_iterations = 1, yROI_Range=[50, -85], xROI_Range=[400, -400], maxShiftTolerance=5, isFull360=False)\n",
    "tomo.PMA(max_iterations = 1, tolerance=0.0001, algorithm=\"sirt\", crop_bottom_center_y = tomo.workingProjections.shape[1]-80, crop_bottom_center_x = 1200, isPhaseData = True)\n",
    "tomo.center_projections()\n",
    "tomo.make_updates_shift()\n",
    "tomo.makeNotebookProjMovie()"
   ]
  },
  {
   "cell_type": "code",
   "execution_count": null,
   "id": "85ea58f9-f613-41be-8ffc-07b90d20175d",
   "metadata": {},
   "outputs": [],
   "source": [
    "print(len(tomo.ang))\n",
    "print(tomo.workingProjections.shape)"
   ]
  },
  {
   "cell_type": "code",
   "execution_count": null,
   "id": "95e56dbe-32d0-4d67-868e-2e464c24c086",
   "metadata": {},
   "outputs": [],
   "source": []
  }
 ],
 "metadata": {
  "kernelspec": {
   "display_name": "Python 3 (ipykernel)",
   "language": "python",
   "name": "python3"
  },
  "language_info": {
   "codemirror_mode": {
    "name": "ipython",
    "version": 3
   },
   "file_extension": ".py",
   "mimetype": "text/x-python",
   "name": "python",
   "nbconvert_exporter": "python",
   "pygments_lexer": "ipython3",
   "version": "3.8.20"
  }
 },
 "nbformat": 4,
 "nbformat_minor": 5
}
