{
 "cells": [
  {
   "cell_type": "code",
   "execution_count": 12,
   "id": "82eb7eac-b20c-4a5e-b463-b5b0fbd8df15",
   "metadata": {},
   "outputs": [],
   "source": [
    "import numpy as np\n",
    "import matplotlib.pyplot as plt\n",
    "from scipy.ndimage import center_of_mass\n",
    "from tiffConverter import convert_to_numpy, convert_to_tiff\n",
    "from pltwidget import runwidget\n",
    "from helperFunctions import MoviePlotter"
   ]
  },
  {
   "cell_type": "code",
   "execution_count": 13,
   "id": "6d699557-eae3-4c27-81e2-32edf40ea268",
   "metadata": {},
   "outputs": [
    {
     "ename": "FileNotFoundError",
     "evalue": "[Errno 2] No such file or directory: '/Users/levihancock/Documents/Work/Code/TomoMono/alignedProjections/aligned_baseCase_Filter_XCtip_20241004-100555.tif'",
     "output_type": "error",
     "traceback": [
      "\u001b[0;31m---------------------------------------------------------------------------\u001b[0m",
      "\u001b[0;31mFileNotFoundError\u001b[0m                         Traceback (most recent call last)",
      "\u001b[0;32m/var/folders/5y/wrkd8b9s2hb9b67pxl5n8n180000gn/T/ipykernel_57852/2950880948.py\u001b[0m in \u001b[0;36m?\u001b[0;34m()\u001b[0m\n\u001b[0;32m----> 2\u001b[0;31m \u001b[0maligned_proj_location\u001b[0m \u001b[0;34m=\u001b[0m \u001b[0;34m\"alignedProjections/aligned_baseCase_Filter_XCtip_20241004-100555.tif\"\u001b[0m\u001b[0;34m\u001b[0m\u001b[0;34m\u001b[0m\u001b[0m\n\u001b[0m\u001b[1;32m      3\u001b[0m \u001b[0mkevinProjections\u001b[0m\u001b[0;34m,\u001b[0m \u001b[0mkevin_proj_scale_info\u001b[0m \u001b[0;34m=\u001b[0m \u001b[0mconvert_to_numpy\u001b[0m\u001b[0;34m(\u001b[0m\u001b[0maligned_proj_location\u001b[0m\u001b[0;34m)\u001b[0m\u001b[0;34m\u001b[0m\u001b[0;34m\u001b[0m\u001b[0m\n\u001b[1;32m      4\u001b[0m \u001b[0;34m\u001b[0m\u001b[0m\n\u001b[1;32m      5\u001b[0m \u001b[0mnotAligned_proj_location\u001b[0m \u001b[0;34m=\u001b[0m \u001b[0;34m\"data/fullTomoReconstructions_8_28_24.tif\"\u001b[0m\u001b[0;34m\u001b[0m\u001b[0;34m\u001b[0m\u001b[0m\n",
      "\u001b[0;32m~/Documents/Work/Code/TomoMono/tiffConverter.py\u001b[0m in \u001b[0;36m?\u001b[0;34m(file_location)\u001b[0m\n\u001b[1;32m     10\u001b[0m \u001b[0;34m\u001b[0m\u001b[0m\n\u001b[1;32m     11\u001b[0m     \u001b[0mReturns\u001b[0m\u001b[0;34m:\u001b[0m\u001b[0;34m\u001b[0m\u001b[0;34m\u001b[0m\u001b[0m\n\u001b[1;32m     12\u001b[0m     \u001b[0;34m-\u001b[0m \u001b[0mA\u001b[0m \u001b[0mtuple\u001b[0m \u001b[0mcontaining\u001b[0m \u001b[0mthe\u001b[0m \u001b[0mnumpy\u001b[0m \u001b[0marray\u001b[0m \u001b[0;32mand\u001b[0m \u001b[0ma\u001b[0m \u001b[0mdictionary\u001b[0m \u001b[0;32mwith\u001b[0m \u001b[0mscale\u001b[0m \u001b[0minformation\u001b[0m \u001b[0;34m(\u001b[0m\u001b[0;32mor\u001b[0m \u001b[0;32mNone\u001b[0m \u001b[0;32mif\u001b[0m \u001b[0;32mnot\u001b[0m \u001b[0mavailable\u001b[0m\u001b[0;34m)\u001b[0m\u001b[0;34m.\u001b[0m\u001b[0;34m\u001b[0m\u001b[0;34m\u001b[0m\u001b[0m\n\u001b[1;32m     13\u001b[0m     \"\"\"\n\u001b[0;32m---> 14\u001b[0;31m     \u001b[0;32mwith\u001b[0m \u001b[0mtifffile\u001b[0m\u001b[0;34m.\u001b[0m\u001b[0mTiffFile\u001b[0m\u001b[0;34m(\u001b[0m\u001b[0mfile_location\u001b[0m\u001b[0;34m)\u001b[0m \u001b[0;32mas\u001b[0m \u001b[0mtif\u001b[0m\u001b[0;34m:\u001b[0m\u001b[0;34m\u001b[0m\u001b[0;34m\u001b[0m\u001b[0m\n\u001b[0m\u001b[1;32m     15\u001b[0m         \u001b[0mtif_data\u001b[0m \u001b[0;34m=\u001b[0m \u001b[0mtif\u001b[0m\u001b[0;34m.\u001b[0m\u001b[0masarray\u001b[0m\u001b[0;34m(\u001b[0m\u001b[0;34m)\u001b[0m\u001b[0;34m\u001b[0m\u001b[0;34m\u001b[0m\u001b[0m\n\u001b[1;32m     16\u001b[0m \u001b[0;34m\u001b[0m\u001b[0m\n\u001b[1;32m     17\u001b[0m         \u001b[0;31m# Extract scale information from metadata, if available\u001b[0m\u001b[0;34m\u001b[0m\u001b[0;34m\u001b[0m\u001b[0;34m\u001b[0m\u001b[0m\n",
      "\u001b[0;32m/opt/miniconda3/envs/tomopy_env/lib/python3.8/site-packages/tifffile/tifffile.py\u001b[0m in \u001b[0;36m?\u001b[0;34m(self, file, mode, name, offset, size, omexml, _multifile, _useframes, _parent, **is_flags)\u001b[0m\n\u001b[1;32m   4031\u001b[0m \u001b[0;34m\u001b[0m\u001b[0m\n\u001b[1;32m   4032\u001b[0m         \u001b[0;32mif\u001b[0m \u001b[0mmode\u001b[0m \u001b[0;32mnot\u001b[0m \u001b[0;32min\u001b[0m \u001b[0;34m{\u001b[0m\u001b[0;32mNone\u001b[0m\u001b[0;34m,\u001b[0m \u001b[0;34m'r'\u001b[0m\u001b[0;34m,\u001b[0m \u001b[0;34m'r+'\u001b[0m\u001b[0;34m,\u001b[0m \u001b[0;34m'rb'\u001b[0m\u001b[0;34m,\u001b[0m \u001b[0;34m'r+b'\u001b[0m\u001b[0;34m}\u001b[0m\u001b[0;34m:\u001b[0m\u001b[0;34m\u001b[0m\u001b[0;34m\u001b[0m\u001b[0m\n\u001b[1;32m   4033\u001b[0m             \u001b[0;32mraise\u001b[0m \u001b[0mValueError\u001b[0m\u001b[0;34m(\u001b[0m\u001b[0;34mf'invalid mode {mode!r}'\u001b[0m\u001b[0;34m)\u001b[0m\u001b[0;34m\u001b[0m\u001b[0;34m\u001b[0m\u001b[0m\n\u001b[1;32m   4034\u001b[0m \u001b[0;34m\u001b[0m\u001b[0m\n\u001b[0;32m-> 4035\u001b[0;31m         \u001b[0mfh\u001b[0m \u001b[0;34m=\u001b[0m \u001b[0mFileHandle\u001b[0m\u001b[0;34m(\u001b[0m\u001b[0mfile\u001b[0m\u001b[0;34m,\u001b[0m \u001b[0mmode\u001b[0m\u001b[0;34m=\u001b[0m\u001b[0mmode\u001b[0m\u001b[0;34m,\u001b[0m \u001b[0mname\u001b[0m\u001b[0;34m=\u001b[0m\u001b[0mname\u001b[0m\u001b[0;34m,\u001b[0m \u001b[0moffset\u001b[0m\u001b[0;34m=\u001b[0m\u001b[0moffset\u001b[0m\u001b[0;34m,\u001b[0m \u001b[0msize\u001b[0m\u001b[0;34m=\u001b[0m\u001b[0msize\u001b[0m\u001b[0;34m)\u001b[0m\u001b[0;34m\u001b[0m\u001b[0;34m\u001b[0m\u001b[0m\n\u001b[0m\u001b[1;32m   4036\u001b[0m         \u001b[0mself\u001b[0m\u001b[0;34m.\u001b[0m\u001b[0m_fh\u001b[0m \u001b[0;34m=\u001b[0m \u001b[0mfh\u001b[0m\u001b[0;34m\u001b[0m\u001b[0;34m\u001b[0m\u001b[0m\n\u001b[1;32m   4037\u001b[0m         \u001b[0mself\u001b[0m\u001b[0;34m.\u001b[0m\u001b[0m_multifile\u001b[0m \u001b[0;34m=\u001b[0m \u001b[0;32mTrue\u001b[0m \u001b[0;32mif\u001b[0m \u001b[0m_multifile\u001b[0m \u001b[0;32mis\u001b[0m \u001b[0;32mNone\u001b[0m \u001b[0;32melse\u001b[0m \u001b[0mbool\u001b[0m\u001b[0;34m(\u001b[0m\u001b[0m_multifile\u001b[0m\u001b[0;34m)\u001b[0m\u001b[0;34m\u001b[0m\u001b[0;34m\u001b[0m\u001b[0m\n\u001b[1;32m   4038\u001b[0m         \u001b[0mself\u001b[0m\u001b[0;34m.\u001b[0m\u001b[0m_files\u001b[0m \u001b[0;34m=\u001b[0m \u001b[0;34m{\u001b[0m\u001b[0mfh\u001b[0m\u001b[0;34m.\u001b[0m\u001b[0mname\u001b[0m\u001b[0;34m:\u001b[0m \u001b[0mself\u001b[0m\u001b[0;34m}\u001b[0m\u001b[0;34m\u001b[0m\u001b[0;34m\u001b[0m\u001b[0m\n",
      "\u001b[0;32m/opt/miniconda3/envs/tomopy_env/lib/python3.8/site-packages/tifffile/tifffile.py\u001b[0m in \u001b[0;36m?\u001b[0;34m(self, file, mode, name, offset, size)\u001b[0m\n\u001b[1;32m  14016\u001b[0m         \u001b[0mself\u001b[0m\u001b[0;34m.\u001b[0m\u001b[0m_offset\u001b[0m \u001b[0;34m=\u001b[0m \u001b[0;34m-\u001b[0m\u001b[0;36m1\u001b[0m \u001b[0;32mif\u001b[0m \u001b[0moffset\u001b[0m \u001b[0;32mis\u001b[0m \u001b[0;32mNone\u001b[0m \u001b[0;32melse\u001b[0m \u001b[0moffset\u001b[0m\u001b[0;34m\u001b[0m\u001b[0;34m\u001b[0m\u001b[0m\n\u001b[1;32m  14017\u001b[0m         \u001b[0mself\u001b[0m\u001b[0;34m.\u001b[0m\u001b[0m_size\u001b[0m \u001b[0;34m=\u001b[0m \u001b[0;34m-\u001b[0m\u001b[0;36m1\u001b[0m \u001b[0;32mif\u001b[0m \u001b[0msize\u001b[0m \u001b[0;32mis\u001b[0m \u001b[0;32mNone\u001b[0m \u001b[0;32melse\u001b[0m \u001b[0msize\u001b[0m\u001b[0;34m\u001b[0m\u001b[0;34m\u001b[0m\u001b[0m\n\u001b[1;32m  14018\u001b[0m         \u001b[0mself\u001b[0m\u001b[0;34m.\u001b[0m\u001b[0m_close\u001b[0m \u001b[0;34m=\u001b[0m \u001b[0;32mTrue\u001b[0m\u001b[0;34m\u001b[0m\u001b[0;34m\u001b[0m\u001b[0m\n\u001b[1;32m  14019\u001b[0m         \u001b[0mself\u001b[0m\u001b[0;34m.\u001b[0m\u001b[0m_lock\u001b[0m \u001b[0;34m=\u001b[0m \u001b[0mNullContext\u001b[0m\u001b[0;34m(\u001b[0m\u001b[0;34m)\u001b[0m\u001b[0;34m\u001b[0m\u001b[0;34m\u001b[0m\u001b[0m\n\u001b[0;32m> 14020\u001b[0;31m         \u001b[0mself\u001b[0m\u001b[0;34m.\u001b[0m\u001b[0mopen\u001b[0m\u001b[0;34m(\u001b[0m\u001b[0;34m)\u001b[0m\u001b[0;34m\u001b[0m\u001b[0;34m\u001b[0m\u001b[0m\n\u001b[0m\u001b[1;32m  14021\u001b[0m         \u001b[0;32massert\u001b[0m \u001b[0mself\u001b[0m\u001b[0;34m.\u001b[0m\u001b[0m_fh\u001b[0m \u001b[0;32mis\u001b[0m \u001b[0;32mnot\u001b[0m \u001b[0;32mNone\u001b[0m\u001b[0;34m\u001b[0m\u001b[0;34m\u001b[0m\u001b[0m\n",
      "\u001b[0;32m/opt/miniconda3/envs/tomopy_env/lib/python3.8/site-packages/tifffile/tifffile.py\u001b[0m in \u001b[0;36m?\u001b[0;34m(self)\u001b[0m\n\u001b[1;32m  14031\u001b[0m         \u001b[0;32mif\u001b[0m \u001b[0misinstance\u001b[0m\u001b[0;34m(\u001b[0m\u001b[0mself\u001b[0m\u001b[0;34m.\u001b[0m\u001b[0m_file\u001b[0m\u001b[0;34m,\u001b[0m \u001b[0mstr\u001b[0m\u001b[0;34m)\u001b[0m\u001b[0;34m:\u001b[0m\u001b[0;34m\u001b[0m\u001b[0;34m\u001b[0m\u001b[0m\n\u001b[1;32m  14032\u001b[0m             \u001b[0;31m# file name\u001b[0m\u001b[0;34m\u001b[0m\u001b[0;34m\u001b[0m\u001b[0;34m\u001b[0m\u001b[0m\n\u001b[1;32m  14033\u001b[0m             \u001b[0mself\u001b[0m\u001b[0;34m.\u001b[0m\u001b[0m_file\u001b[0m \u001b[0;34m=\u001b[0m \u001b[0mos\u001b[0m\u001b[0;34m.\u001b[0m\u001b[0mpath\u001b[0m\u001b[0;34m.\u001b[0m\u001b[0mrealpath\u001b[0m\u001b[0;34m(\u001b[0m\u001b[0mself\u001b[0m\u001b[0;34m.\u001b[0m\u001b[0m_file\u001b[0m\u001b[0;34m)\u001b[0m\u001b[0;34m\u001b[0m\u001b[0;34m\u001b[0m\u001b[0m\n\u001b[1;32m  14034\u001b[0m             \u001b[0mself\u001b[0m\u001b[0;34m.\u001b[0m\u001b[0m_dir\u001b[0m\u001b[0;34m,\u001b[0m \u001b[0mself\u001b[0m\u001b[0;34m.\u001b[0m\u001b[0m_name\u001b[0m \u001b[0;34m=\u001b[0m \u001b[0mos\u001b[0m\u001b[0;34m.\u001b[0m\u001b[0mpath\u001b[0m\u001b[0;34m.\u001b[0m\u001b[0msplit\u001b[0m\u001b[0;34m(\u001b[0m\u001b[0mself\u001b[0m\u001b[0;34m.\u001b[0m\u001b[0m_file\u001b[0m\u001b[0;34m)\u001b[0m\u001b[0;34m\u001b[0m\u001b[0;34m\u001b[0m\u001b[0m\n\u001b[0;32m> 14035\u001b[0;31m             self._fh = open(\n\u001b[0m\u001b[1;32m  14036\u001b[0m                 \u001b[0mself\u001b[0m\u001b[0;34m.\u001b[0m\u001b[0m_file\u001b[0m\u001b[0;34m,\u001b[0m \u001b[0mself\u001b[0m\u001b[0;34m.\u001b[0m\u001b[0m_mode\u001b[0m\u001b[0;34m,\u001b[0m \u001b[0mencoding\u001b[0m\u001b[0;34m=\u001b[0m\u001b[0;32mNone\u001b[0m\u001b[0;34m\u001b[0m\u001b[0;34m\u001b[0m\u001b[0m\n\u001b[1;32m  14037\u001b[0m             )  # type: ignore\n\u001b[1;32m  14038\u001b[0m             \u001b[0mself\u001b[0m\u001b[0;34m.\u001b[0m\u001b[0m_close\u001b[0m \u001b[0;34m=\u001b[0m \u001b[0;32mTrue\u001b[0m\u001b[0;34m\u001b[0m\u001b[0;34m\u001b[0m\u001b[0m\n",
      "\u001b[0;31mFileNotFoundError\u001b[0m: [Errno 2] No such file or directory: '/Users/levihancock/Documents/Work/Code/TomoMono/alignedProjections/aligned_baseCase_Filter_XCtip_20241004-100555.tif'"
     ]
    }
   ],
   "source": [
    "aligned_proj_location = \"alignedProjections/aligned_baseCase_Filter_XCtip_20241004-100555.tif\"\n",
    "kevinProjections, kevin_proj_scale_info = convert_to_numpy(aligned_proj_location)\n",
    "\n",
    "notAligned_proj_location = \"data/fullTomoReconstructions_8_28_24.tif\"\n",
    "notAlignedProjections, notAligned_proj_scale_info = convert_to_numpy(notAligned_proj_location)"
   ]
  },
  {
   "cell_type": "code",
   "execution_count": 11,
   "id": "1624da8e-0f9d-4378-bb9e-b6404dcfc067",
   "metadata": {},
   "outputs": [],
   "source": [
    "def plot_two_centroids(data_3d_1, data_3d_2):\n",
    "    \"\"\"\n",
    "    Accepts two 3D numpy arrays, where the first dimension is the index \n",
    "    and the other two dimensions are 2D images. Normalizes the images \n",
    "    to be positive, calculates the centroid of the grayscale values for \n",
    "    each 2D image in both arrays, focusing only on the center 50% by 50% \n",
    "    region, and plots them on the same scatterplot in two different colors.\n",
    "\n",
    "    Parameters:\n",
    "        data_3d_1 (numpy.ndarray): First 3D numpy array of shape (n, height, width).\n",
    "        data_3d_2 (numpy.ndarray): Second 3D numpy array of shape (n, height, width).\n",
    "    \"\"\"\n",
    "    def normalize_image(img):\n",
    "        \"\"\"Shift the image to make all values positive.\"\"\"\n",
    "        # return img - np.min(img)\n",
    "        return np.square(img)\n",
    "\n",
    "    def calculate_centroids(data_3d):\n",
    "        \"\"\"Helper function to calculate centroids for the center 50% region of a 3D array.\"\"\"\n",
    "        centroids = []\n",
    "        for img in data_3d:\n",
    "            # Normalize the image to ensure all values are positive\n",
    "            normalized_img = normalize_image(img)\n",
    "\n",
    "            # Focus only on the center 50% region\n",
    "            h, w = normalized_img.shape\n",
    "            h_start, h_end = h // 5, 4 * h // 5  # Center 50% in height\n",
    "            w_start, w_end = w // 5, 4 * w // 5  # Center 50% in width\n",
    "            cropped_img = normalized_img[h_start:h_end, w_start:w_end]\n",
    "            # cropped_img = normalized_img\n",
    "            \n",
    "            # Calculate centroid\n",
    "            centroid = center_of_mass(cropped_img)\n",
    "            \n",
    "            # Adjust the centroid to the original image coordinates\n",
    "            if centroid[0] is not None and centroid[1] is not None:\n",
    "                centroids.append((centroid[0] - (h_end-h_start)/2, centroid[1] - (w_end-w_start)/2))\n",
    "                # centroids.append((centroid[0] -h/2, centroid[1]-w/2))\n",
    "            else:\n",
    "                centroids.append((np.nan, np.nan))  # Handle empty images\n",
    "        return np.array(centroids)\n",
    "\n",
    "    # Ensure both inputs are 3D arrays\n",
    "    if len(data_3d_1.shape) != 3 or len(data_3d_2.shape) != 3:\n",
    "        raise ValueError(\"Both input arrays must be 3-dimensional.\")\n",
    "\n",
    "    # Calculate centroids for both datasets\n",
    "    centroids_1 = calculate_centroids(data_3d_1)\n",
    "    centroids_2 = calculate_centroids(data_3d_2)\n",
    "\n",
    "    # Extract x and y coordinates\n",
    "    y_coords_1, x_coords_1 = centroids_1[:, 0], centroids_1[:, 1]\n",
    "    y_coords_2, x_coords_2 = centroids_2[:, 0], centroids_2[:, 1]\n",
    "\n",
    "    # Create scatter plot\n",
    "    plt.figure(figsize=(8, 8))\n",
    "    plt.scatter(x_coords_1, y_coords_1, color=\"blue\", label=\"Projections Post-Alignment\")\n",
    "    plt.scatter(x_coords_2, y_coords_2, color=\"red\", label=\"Projections Pre-Alignment\")\n",
    "    plt.gca().invert_yaxis()  # Invert y-axis to align with image coordinate systems\n",
    "    plt.xlabel(\"X Coordinate\",fontsize=16)\n",
    "    plt.ylabel(\"Y Coordinate\", fontsize=16)\n",
    "    plt.title(\"Center of Mass of Projections Pre/Post Alignment\", fontsize=20)\n",
    "    plt.legend()\n",
    "    plt.grid()\n",
    "    plt.show()\n",
    "    \n",
    "    for i in range(10):\n",
    "        # Focus only on the center 50% region\n",
    "        h, w = data_3d_1[i*20].shape\n",
    "        h_start, h_end = h // 5, 4 * h // 5  # Center 50% in height\n",
    "        w_start, w_end = w // 5, 4 * w // 5  # Center 50% in width\n",
    "        cropped_img = data_3d_1[i*20][h_start:h_end, w_start:w_end]\n",
    "\n",
    "        plt.imshow(data_3d_1[i*20][h_start:h_end, w_start:w_end])\n",
    "        plt.scatter(x_coords_1[i*20] + (w_end-w_start)/2, y_coords_1[i*20]+(h_end-h_start)/2,  color = \"blue\")\n",
    "        plt.show()\n"
   ]
  },
  {
   "cell_type": "code",
   "execution_count": 3,
   "id": "bcf8cffe-7541-440e-8b82-73a854c6d83e",
   "metadata": {},
   "outputs": [
    {
     "ename": "NameError",
     "evalue": "name 'plot_two_centroids' is not defined",
     "output_type": "error",
     "traceback": [
      "\u001b[0;31m---------------------------------------------------------------------------\u001b[0m",
      "\u001b[0;31mNameError\u001b[0m                                 Traceback (most recent call last)",
      "Cell \u001b[0;32mIn[3], line 2\u001b[0m\n\u001b[1;32m      1\u001b[0m \u001b[38;5;66;03m# Plot the centroids\u001b[39;00m\n\u001b[0;32m----> 2\u001b[0m \u001b[43mplot_two_centroids\u001b[49m(kevinProjections, notAlignedProjections)\n",
      "\u001b[0;31mNameError\u001b[0m: name 'plot_two_centroids' is not defined"
     ]
    }
   ],
   "source": [
    "# Plot the centroids\n",
    "plot_two_centroids(kevinProjections, notAlignedProjections)"
   ]
  },
  {
   "cell_type": "code",
   "execution_count": 4,
   "id": "1cb410bc-95da-4ea6-90b1-1a8a65b9a14a",
   "metadata": {},
   "outputs": [
    {
     "ename": "NameError",
     "evalue": "name 'kevinProjections' is not defined",
     "output_type": "error",
     "traceback": [
      "\u001b[0;31m---------------------------------------------------------------------------\u001b[0m",
      "\u001b[0;31mNameError\u001b[0m                                 Traceback (most recent call last)",
      "Cell \u001b[0;32mIn[4], line 5\u001b[0m\n\u001b[1;32m      2\u001b[0m \u001b[38;5;250m    \u001b[39m\u001b[38;5;124;03m\"\"\"Shift the image to make all values positive.\"\"\"\u001b[39;00m\n\u001b[1;32m      3\u001b[0m     \u001b[38;5;28;01mreturn\u001b[39;00m img \u001b[38;5;241m-\u001b[39m np\u001b[38;5;241m.\u001b[39mmin(img)\n\u001b[0;32m----> 5\u001b[0m centroid \u001b[38;5;241m=\u001b[39m center_of_mass(normalize_image(\u001b[43mkevinProjections\u001b[49m[\u001b[38;5;241m0\u001b[39m]))\n\u001b[1;32m      6\u001b[0m \u001b[38;5;28mprint\u001b[39m(centroid)\n\u001b[1;32m      7\u001b[0m \u001b[38;5;28mprint\u001b[39m(kevinProjections[\u001b[38;5;241m0\u001b[39m]\u001b[38;5;241m.\u001b[39mshape)\n",
      "\u001b[0;31mNameError\u001b[0m: name 'kevinProjections' is not defined"
     ]
    }
   ],
   "source": [
    "def normalize_image(img):\n",
    "    \"\"\"Shift the image to make all values positive.\"\"\"\n",
    "    return img - np.min(img)\n",
    "\n",
    "centroid = center_of_mass(normalize_image(kevinProjections[0]))\n",
    "print(centroid)\n",
    "print(kevinProjections[0].shape)\n",
    "plt.imshow(kevinProjections[0])\n",
    "plt.show()"
   ]
  },
  {
   "cell_type": "code",
   "execution_count": null,
   "id": "fc6bce37-a8fa-4435-a83e-d2efcc8cc568",
   "metadata": {},
   "outputs": [],
   "source": [
    "# runwidget(kevinProjections[0:100])\n",
    "MoviePlotter(notAlignedProjections[0:10,130:-130, 180:-180])"
   ]
  }
 ],
 "metadata": {
  "kernelspec": {
   "display_name": "Python 3 (ipykernel)",
   "language": "python",
   "name": "python3"
  },
  "language_info": {
   "codemirror_mode": {
    "name": "ipython",
    "version": 3
   },
   "file_extension": ".py",
   "mimetype": "text/x-python",
   "name": "python",
   "nbconvert_exporter": "python",
   "pygments_lexer": "ipython3",
   "version": "3.8.20"
  }
 },
 "nbformat": 4,
 "nbformat_minor": 5
}
