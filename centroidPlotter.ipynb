{
 "cells": [
  {
   "cell_type": "code",
   "execution_count": null,
   "id": "82eb7eac-b20c-4a5e-b463-b5b0fbd8df15",
   "metadata": {},
   "outputs": [],
   "source": [
    "import numpy as np\n",
    "import matplotlib.pyplot as plt\n",
    "from scipy.ndimage import center_of_mass\n",
    "from tiffConverter import convert_to_numpy, convert_to_tiff\n",
    "from pltwidget import runwidget\n",
    "from helperFunctions import MoviePlotter"
   ]
  },
  {
   "cell_type": "code",
   "execution_count": null,
   "id": "6d699557-eae3-4c27-81e2-32edf40ea268",
   "metadata": {},
   "outputs": [],
   "source": [
    "aligned_proj_location = \"alignedProjections/aligned_baseCase_Filter_XCtip_20241004-100555.tif\"\n",
    "kevinProjections, kevin_proj_scale_info = convert_to_numpy(aligned_proj_location)\n",
    "\n",
    "notAligned_proj_location = \"data/fullTomoReconstructions_8_28_24.tif\"\n",
    "notAlignedProjections, notAligned_proj_scale_info = convert_to_numpy(notAligned_proj_location)"
   ]
  },
  {
   "cell_type": "code",
   "execution_count": null,
   "id": "1624da8e-0f9d-4378-bb9e-b6404dcfc067",
   "metadata": {},
   "outputs": [],
   "source": [
    "def plot_two_centroids(data_3d_1, data_3d_2):\n",
    "    \"\"\"\n",
    "    Accepts two 3D numpy arrays, where the first dimension is the index \n",
    "    and the other two dimensions are 2D images. Normalizes the images \n",
    "    to be positive, calculates the centroid of the grayscale values for \n",
    "    each 2D image in both arrays, focusing only on the center 50% by 50% \n",
    "    region, and plots them on the same scatterplot in two different colors.\n",
    "\n",
    "    Parameters:\n",
    "        data_3d_1 (numpy.ndarray): First 3D numpy array of shape (n, height, width).\n",
    "        data_3d_2 (numpy.ndarray): Second 3D numpy array of shape (n, height, width).\n",
    "    \"\"\"\n",
    "    def normalize_image(img):\n",
    "        \"\"\"Shift the image to make all values positive.\"\"\"\n",
    "        # return img - np.min(img)\n",
    "        return np.square(img)\n",
    "\n",
    "    def calculate_centroids(data_3d):\n",
    "        \"\"\"Helper function to calculate centroids for the center 50% region of a 3D array.\"\"\"\n",
    "        centroids = []\n",
    "        for img in data_3d:\n",
    "            # Normalize the image to ensure all values are positive\n",
    "            normalized_img = normalize_image(img)\n",
    "\n",
    "            # Focus only on the center 50% region\n",
    "            h, w = normalized_img.shape\n",
    "            h_start, h_end = h // 5, 4 * h // 5  # Center 50% in height\n",
    "            w_start, w_end = w // 5, 4 * w // 5  # Center 50% in width\n",
    "            cropped_img = normalized_img[h_start:h_end, w_start:w_end]\n",
    "            # cropped_img = normalized_img\n",
    "            \n",
    "            # Calculate centroid\n",
    "            centroid = center_of_mass(cropped_img)\n",
    "            \n",
    "            # Adjust the centroid to the original image coordinates\n",
    "            if centroid[0] is not None and centroid[1] is not None:\n",
    "                centroids.append((centroid[0] - (h_end-h_start)/2, centroid[1] - (w_end-w_start)/2))\n",
    "                # centroids.append((centroid[0] -h/2, centroid[1]-w/2))\n",
    "            else:\n",
    "                centroids.append((np.nan, np.nan))  # Handle empty images\n",
    "        return np.array(centroids)\n",
    "\n",
    "    # Ensure both inputs are 3D arrays\n",
    "    if len(data_3d_1.shape) != 3 or len(data_3d_2.shape) != 3:\n",
    "        raise ValueError(\"Both input arrays must be 3-dimensional.\")\n",
    "\n",
    "    # Calculate centroids for both datasets\n",
    "    centroids_1 = calculate_centroids(data_3d_1)\n",
    "    centroids_2 = calculate_centroids(data_3d_2)\n",
    "\n",
    "    # Extract x and y coordinates\n",
    "    y_coords_1, x_coords_1 = centroids_1[:, 0], centroids_1[:, 1]\n",
    "    y_coords_2, x_coords_2 = centroids_2[:, 0], centroids_2[:, 1]\n",
    "\n",
    "    # Create scatter plot\n",
    "    plt.figure(figsize=(8, 8))\n",
    "    plt.scatter(x_coords_1, y_coords_1, color=\"blue\", label=\"Projections Post-Alignment\")\n",
    "    plt.scatter(x_coords_2, y_coords_2, color=\"red\", label=\"Projections Pre-Alignment\")\n",
    "    plt.gca().invert_yaxis()  # Invert y-axis to align with image coordinate systems\n",
    "    plt.xlabel(\"X Coordinate\",fontsize=16)\n",
    "    plt.ylabel(\"Y Coordinate\", fontsize=16)\n",
    "    plt.title(\"Center of Mass of Projections Pre/Post Alignment\", fontsize=20)\n",
    "    plt.legend()\n",
    "    plt.grid()\n",
    "    plt.show()\n",
    "    \n",
    "    for i in range(10):\n",
    "        # Focus only on the center 50% region\n",
    "        h, w = data_3d_1[i*20].shape\n",
    "        h_start, h_end = h // 5, 4 * h // 5  # Center 50% in height\n",
    "        w_start, w_end = w // 5, 4 * w // 5  # Center 50% in width\n",
    "        cropped_img = data_3d_1[i*20][h_start:h_end, w_start:w_end]\n",
    "\n",
    "        plt.imshow(data_3d_1[i*20][h_start:h_end, w_start:w_end])\n",
    "        plt.scatter(x_coords_1[i*20] + (w_end-w_start)/2, y_coords_1[i*20]+(h_end-h_start)/2,  color = \"blue\")\n",
    "        plt.show()\n"
   ]
  },
  {
   "cell_type": "code",
   "execution_count": null,
   "id": "bcf8cffe-7541-440e-8b82-73a854c6d83e",
   "metadata": {},
   "outputs": [],
   "source": [
    "# Plot the centroids\n",
    "plot_two_centroids(kevinProjections, notAlignedProjections)"
   ]
  },
  {
   "cell_type": "code",
   "execution_count": null,
   "id": "1cb410bc-95da-4ea6-90b1-1a8a65b9a14a",
   "metadata": {},
   "outputs": [],
   "source": [
    "def normalize_image(img):\n",
    "    \"\"\"Shift the image to make all values positive.\"\"\"\n",
    "    return img - np.min(img)\n",
    "\n",
    "centroid = center_of_mass(normalize_image(kevinProjections[0]))\n",
    "print(centroid)\n",
    "print(kevinProjections[0].shape)\n",
    "plt.imshow(kevinProjections[0])\n",
    "plt.show()"
   ]
  },
  {
   "cell_type": "code",
   "execution_count": null,
   "id": "fc6bce37-a8fa-4435-a83e-d2efcc8cc568",
   "metadata": {},
   "outputs": [],
   "source": [
    "# runwidget(kevinProjections[0:100])\n",
    "MoviePlotter(notAlignedProjections[0:10,130:-130, 180:-180])"
   ]
  }
 ],
 "metadata": {
  "kernelspec": {
   "display_name": "Python 3 (ipykernel)",
   "language": "python",
   "name": "python3"
  },
  "language_info": {
   "codemirror_mode": {
    "name": "ipython",
    "version": 3
   },
   "file_extension": ".py",
   "mimetype": "text/x-python",
   "name": "python",
   "nbconvert_exporter": "python",
   "pygments_lexer": "ipython3",
   "version": "3.12.5"
  }
 },
 "nbformat": 4,
 "nbformat_minor": 5
}
