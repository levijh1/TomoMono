{
 "cells": [
  {
   "cell_type": "markdown",
   "id": "77b3f487-ea12-4814-982c-17981145e9c2",
   "metadata": {},
   "source": [
    "## Import libraries"
   ]
  },
  {
   "cell_type": "code",
   "execution_count": 1,
   "id": "e6a09fdd-cc67-4028-b717-336497c688d6",
   "metadata": {},
   "outputs": [],
   "source": [
    "import tomopy\n",
    "from helperFunctions import MoviePlotter\n",
    "from tomoDataClass import tomoData"
   ]
  },
  {
   "cell_type": "markdown",
   "id": "aa51dfbd-55e5-43e6-8846-196bc5a3420c",
   "metadata": {},
   "source": [
    "## Create Simulated Data"
   ]
  },
  {
   "cell_type": "code",
   "execution_count": null,
   "id": "98c1addd",
   "metadata": {},
   "outputs": [],
   "source": [
    "#Set constants\n",
    "numAngles = 200 #Number of projection angles\n",
    "imageSize = 256 #Pixel size of one side of cubic array containing Shepp3D phantom"
   ]
  },
  {
   "cell_type": "code",
   "execution_count": null,
   "id": "0753fbc5-b904-4f83-b3bf-b8f5afa75c8e",
   "metadata": {},
   "outputs": [],
   "source": [
    "#Create a simulated object\n",
    "obj = tomopy.shepp3d(size=imageSize)\n",
    "print(obj.shape)\n",
    "print(\"Simulated Object\")\n",
    "MoviePlotter(obj) #Plots vertical slices through the phantom"
   ]
  },
  {
   "cell_type": "code",
   "execution_count": null,
   "id": "0a20e4e7-c5bd-41f4-a99e-c3b36f961fda",
   "metadata": {},
   "outputs": [],
   "source": [
    "# Set projection angles\n",
    "angles = tomopy.angles(nang=numAngles, ang1=1, ang2=360)\n",
    "\n",
    "# create projection images/sinogram\n",
    "projections = tomopy.project(obj, angles, pad=False)\n",
    "\n",
    "print(\"Projections through object\")\n",
    "MoviePlotter(projections)"
   ]
  },
  {
   "cell_type": "code",
   "execution_count": null,
   "id": "f279b093",
   "metadata": {},
   "outputs": [],
   "source": [
    "tomo = tomoData(projections)\n",
    "tomo.jitter(maxShift = 7)\n",
    "tomo.add_noise()\n",
    "print(\"Projections through Object with jitter and noise\")\n",
    "tomo.makeNotebookProjMovie()"
   ]
  },
  {
   "cell_type": "markdown",
   "id": "4371cd56",
   "metadata": {},
   "source": [
    "## Align Data"
   ]
  },
  {
   "cell_type": "code",
   "execution_count": null,
   "id": "c344bbf8-de5a-4ddb-b36b-dcda5bbcdfca",
   "metadata": {},
   "outputs": [],
   "source": [
    "#Show bad reconstruction prior to alignment\n",
    "tomo.reconstruct(algorithm='art')\n",
    "print(\"\\nBad reconstruction prior to alignment\")\n",
    "badRecon = tomo.recon.copy()\n",
    "MoviePlotter(badRecon)"
   ]
  },
  {
   "cell_type": "code",
   "execution_count": null,
   "id": "87a71348-5038-4fe6-900c-bee30ba3cd89",
   "metadata": {},
   "outputs": [],
   "source": [
    "tomo.reset_workingProjections(x_size=imageSize, y_size=imageSize) #You can adjust these for tighter cropping\n",
    "tomo.normalize(isPhaseData=False)\n",
    "tomo.cross_correlate_align(tolerance=0.1, max_iterations=15, stepRatio=1, yROI_Range=None, xROI_Range=None)\n",
    "tomo.PMA(max_iterations=5, tolerance=0.05, algorithm='art', crop_bottom_center_y=imageSize, crop_bottom_center_x=imageSize, standardize=False)\n",
    "tomo.make_updates_shift()"
   ]
  },
  {
   "cell_type": "code",
   "execution_count": null,
   "id": "7105ca8d",
   "metadata": {},
   "outputs": [],
   "source": [
    "tomo.makeNotebookProjMovie()"
   ]
  },
  {
   "cell_type": "code",
   "execution_count": null,
   "id": "851c1d43",
   "metadata": {},
   "outputs": [],
   "source": [
    "tomo.reconstruct(algorithm='art')\n",
    "print(\"\\nGood Reconstruction after alignment\")\n",
    "tomo.makeNotebookReconMovie()"
   ]
  }
 ],
 "metadata": {
  "kernelspec": {
   "display_name": "tomopy_env",
   "language": "python",
   "name": "python3"
  },
  "language_info": {
   "codemirror_mode": {
    "name": "ipython",
    "version": 3
   },
   "file_extension": ".py",
   "mimetype": "text/x-python",
   "name": "python",
   "nbconvert_exporter": "python",
   "pygments_lexer": "ipython3",
   "version": "3.8.20"
  }
 },
 "nbformat": 4,
 "nbformat_minor": 5
}
