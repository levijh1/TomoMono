{
 "cells": [
  {
   "cell_type": "markdown",
   "id": "77b3f487-ea12-4814-982c-17981145e9c2",
   "metadata": {},
   "source": [
    "## Import libraries"
   ]
  },
  {
   "cell_type": "code",
   "execution_count": 1,
   "id": "e6a09fdd-cc67-4028-b717-336497c688d6",
   "metadata": {},
   "outputs": [],
   "source": [
    "import tomopy\n",
    "from helperFunctions import MoviePlotter\n",
    "from tomoDataClass import tomoData"
   ]
  },
  {
   "cell_type": "markdown",
   "id": "aa51dfbd-55e5-43e6-8846-196bc5a3420c",
   "metadata": {},
   "source": [
    "## Create Simulated Data"
   ]
  },
  {
   "cell_type": "code",
   "execution_count": 2,
   "id": "98c1addd",
   "metadata": {},
   "outputs": [],
   "source": [
    "#Set constants\n",
    "numAngles = 400 #Number of projection angles\n",
    "imageSize = 248 #Pixel size of one side of cubic array containing Shepp3D phantom"
   ]
  },
  {
   "cell_type": "code",
   "execution_count": 3,
   "id": "0753fbc5-b904-4f83-b3bf-b8f5afa75c8e",
   "metadata": {},
   "outputs": [
    {
     "name": "stdout",
     "output_type": "stream",
     "text": [
      "(248, 248, 248)\n",
      "Simulated Object\n"
     ]
    },
    {
     "data": {
      "application/vnd.jupyter.widget-view+json": {
       "model_id": "0b828aab0467469f80145ef15b6763ea",
       "version_major": 2,
       "version_minor": 0
      },
      "text/plain": [
       "HBox(children=(Play(value=0, description='Press play', interval=500, max=247), IntSlider(value=0, description=…"
      ]
     },
     "metadata": {},
     "output_type": "display_data"
    },
    {
     "data": {
      "application/vnd.jupyter.widget-view+json": {
       "model_id": "b5dd8c92a62d44f281b930c95c6308dc",
       "version_major": 2,
       "version_minor": 0
      },
      "text/plain": [
       "Output()"
      ]
     },
     "metadata": {},
     "output_type": "display_data"
    },
    {
     "data": {
      "text/plain": [
       "<helperFunctions.MoviePlotter at 0x16eff7410>"
      ]
     },
     "execution_count": 3,
     "metadata": {},
     "output_type": "execute_result"
    }
   ],
   "source": [
    "#Create a simulated object\n",
    "obj = tomopy.shepp3d(size=imageSize)\n",
    "print(obj.shape)\n",
    "print(\"Simulated Object\")\n",
    "MoviePlotter(obj) #Plots vertical slices through the phantom"
   ]
  },
  {
   "cell_type": "code",
   "execution_count": 4,
   "id": "0a20e4e7-c5bd-41f4-a99e-c3b36f961fda",
   "metadata": {},
   "outputs": [
    {
     "name": "stdout",
     "output_type": "stream",
     "text": [
      "Projections through object\n"
     ]
    },
    {
     "data": {
      "application/vnd.jupyter.widget-view+json": {
       "model_id": "ac7441af5bad4aafba70db0e9da8fcdf",
       "version_major": 2,
       "version_minor": 0
      },
      "text/plain": [
       "HBox(children=(Play(value=0, description='Press play', interval=500, max=399), IntSlider(value=0, description=…"
      ]
     },
     "metadata": {},
     "output_type": "display_data"
    },
    {
     "data": {
      "application/vnd.jupyter.widget-view+json": {
       "model_id": "d6dc436d7ed54c8680b521fc2cdefd82",
       "version_major": 2,
       "version_minor": 0
      },
      "text/plain": [
       "Output()"
      ]
     },
     "metadata": {},
     "output_type": "display_data"
    },
    {
     "data": {
      "text/plain": [
       "<helperFunctions.MoviePlotter at 0x181ca1290>"
      ]
     },
     "execution_count": 4,
     "metadata": {},
     "output_type": "execute_result"
    }
   ],
   "source": [
    "# Set projection angles\n",
    "angles = tomopy.angles(nang=numAngles, ang1=1, ang2=360)\n",
    "\n",
    "# create projection images/sinogram\n",
    "projections = tomopy.project(obj, angles, pad=False)\n",
    "\n",
    "print(\"Projections through object\")\n",
    "MoviePlotter(projections)"
   ]
  },
  {
   "cell_type": "code",
   "execution_count": 5,
   "id": "f279b093",
   "metadata": {},
   "outputs": [
    {
     "name": "stdout",
     "output_type": "stream",
     "text": [
      "Projections through Object with jitter and noise\n"
     ]
    },
    {
     "data": {
      "application/vnd.jupyter.widget-view+json": {
       "model_id": "163b449fe46446f499c5e1d5fe9d0077",
       "version_major": 2,
       "version_minor": 0
      },
      "text/plain": [
       "HBox(children=(Play(value=0, description='Press play', interval=500, max=399), IntSlider(value=0, description=…"
      ]
     },
     "metadata": {},
     "output_type": "display_data"
    },
    {
     "data": {
      "application/vnd.jupyter.widget-view+json": {
       "model_id": "d0fa025111de449389c89665f4e959e9",
       "version_major": 2,
       "version_minor": 0
      },
      "text/plain": [
       "Output()"
      ]
     },
     "metadata": {},
     "output_type": "display_data"
    }
   ],
   "source": [
    "tomo = tomoData(projections)\n",
    "tomo.jitter(maxShift = 10)\n",
    "tomo.add_noise()\n",
    "print(\"Projections through Object with jitter and noise\")\n",
    "tomo.makeNotebookProjMovie()"
   ]
  },
  {
   "cell_type": "markdown",
   "id": "4371cd56",
   "metadata": {},
   "source": [
    "## Align Data"
   ]
  },
  {
   "cell_type": "code",
   "execution_count": null,
   "id": "c344bbf8-de5a-4ddb-b36b-dcda5bbcdfca",
   "metadata": {},
   "outputs": [
    {
     "name": "stdout",
     "output_type": "stream",
     "text": [
      "\n",
      "\n",
      "Using CPU-based reconstruction. Algorithm:  art\n",
      "Reconstruction completed.\n",
      "\n",
      "Bad reconstruction prior to alignment\n"
     ]
    },
    {
     "data": {
      "application/vnd.jupyter.widget-view+json": {
       "model_id": "0ece7f1851074f97b73b705637b2abc8",
       "version_major": 2,
       "version_minor": 0
      },
      "text/plain": [
       "HBox(children=(Play(value=0, description='Press play', interval=500, max=247), IntSlider(value=0, description=…"
      ]
     },
     "metadata": {},
     "output_type": "display_data"
    },
    {
     "data": {
      "application/vnd.jupyter.widget-view+json": {
       "model_id": "85c6c979b0b942049eae30c1266b6377",
       "version_major": 2,
       "version_minor": 0
      },
      "text/plain": [
       "Output()"
      ]
     },
     "metadata": {},
     "output_type": "display_data"
    },
    {
     "data": {
      "text/plain": [
       "<helperFunctions.MoviePlotter at 0x181e37a90>"
      ]
     },
     "execution_count": 6,
     "metadata": {},
     "output_type": "execute_result"
    }
   ],
   "source": [
    "#Show bad reconstruction prior to alignment\n",
    "tomo.reconstruct(algorithm='art')\n",
    "print(\"\\nBad reconstruction prior to alignment\")\n",
    "badRecon = tomo.get_recon().copy()\n",
    "MoviePlotter(badRecon)"
   ]
  },
  {
   "cell_type": "code",
   "execution_count": 10,
   "id": "87a71348-5038-4fe6-900c-bee30ba3cd89",
   "metadata": {},
   "outputs": [
    {
     "name": "stdout",
     "output_type": "stream",
     "text": [
      "\n",
      "\n",
      "Cross-Correlation Alignment\n"
     ]
    },
    {
     "name": "stderr",
     "output_type": "stream",
     "text": [
      "Iteration 1: 100%|██████████| 400/400 [00:04<00:00, 80.18it/s][00:00<?, ?it/s]\n",
      "Cross-Correlation Alignment Iterations:   7%|▋         | 1/15 [00:04<01:09,  4.99s/it]"
     ]
    },
    {
     "name": "stdout",
     "output_type": "stream",
     "text": [
      "Average pixel shift of iteration 1: 7.5315161923707725\n"
     ]
    },
    {
     "name": "stderr",
     "output_type": "stream",
     "text": [
      "Iteration 2: 100%|██████████| 400/400 [00:04<00:00, 85.46it/s]\n",
      "Cross-Correlation Alignment Iterations:   7%|▋         | 1/15 [00:09<02:15,  9.68s/it]\n"
     ]
    },
    {
     "name": "stdout",
     "output_type": "stream",
     "text": [
      "Average pixel shift of iteration 2: 0.0125\n",
      "Convergence reached after 2 iterations.\n",
      "Maximum iterations reached without convergence.\n",
      "\n",
      "\n",
      "Projection Matching Alignment (PMA)\n",
      "Cropping projections to size: 248x248\n",
      "\n",
      "\n",
      "Centering Projections\n",
      "Original center: 123.75\n",
      "Center of frame: 124\n",
      "Aligned projections shifted by 0.25 pixels\n",
      "Projections are currently centered at pixel 124.0\n",
      "Residual offset: 0.0 pixels\n"
     ]
    },
    {
     "name": "stderr",
     "output_type": "stream",
     "text": [
      "PMA Algorithm iterations:  20%|██        | 1/5 [00:19<01:17, 19.34s/it]"
     ]
    },
    {
     "name": "stdout",
     "output_type": "stream",
     "text": [
      "Average pixel shift of iteration 0: 1.8867700330339998\n",
      "Average x shift of iteration 0: 1.16\n",
      "Average y shift of iteration 0: 1.2125\n"
     ]
    },
    {
     "name": "stderr",
     "output_type": "stream",
     "text": [
      "PMA Algorithm iterations:  40%|████      | 2/5 [00:38<00:58, 19.44s/it]"
     ]
    },
    {
     "name": "stdout",
     "output_type": "stream",
     "text": [
      "Average pixel shift of iteration 1: 0.6207519889381258\n",
      "Average x shift of iteration 1: 0.465\n",
      "Average y shift of iteration 1: 0.2425\n"
     ]
    },
    {
     "name": "stderr",
     "output_type": "stream",
     "text": [
      "PMA Algorithm iterations:  60%|██████    | 3/5 [00:58<00:38, 19.47s/it]"
     ]
    },
    {
     "name": "stdout",
     "output_type": "stream",
     "text": [
      "Average pixel shift of iteration 2: 0.2635355339059327\n",
      "Average x shift of iteration 2: 0.26\n",
      "Average y shift of iteration 2: 0.005\n"
     ]
    },
    {
     "name": "stderr",
     "output_type": "stream",
     "text": [
      "PMA Algorithm iterations:  80%|████████  | 4/5 [01:17<00:19, 19.45s/it]"
     ]
    },
    {
     "name": "stdout",
     "output_type": "stream",
     "text": [
      "Average pixel shift of iteration 3: 0.1825\n",
      "Average x shift of iteration 3: 0.1825\n",
      "Average y shift of iteration 3: 0.0\n"
     ]
    },
    {
     "name": "stderr",
     "output_type": "stream",
     "text": [
      "PMA Algorithm iterations: 100%|██████████| 5/5 [01:37<00:00, 19.46s/it]"
     ]
    },
    {
     "name": "stdout",
     "output_type": "stream",
     "text": [
      "Average pixel shift of iteration 4: 0.165\n",
      "Average x shift of iteration 4: 0.165\n",
      "Average y shift of iteration 4: 0.0\n",
      "\n",
      "\n",
      "Centering Projections\n"
     ]
    },
    {
     "name": "stderr",
     "output_type": "stream",
     "text": [
      "\n"
     ]
    },
    {
     "name": "stdout",
     "output_type": "stream",
     "text": [
      "Original center: 123.75\n",
      "Center of frame: 124\n",
      "Aligned projections shifted by 0.25 pixels\n",
      "Projections are currently centered at pixel 124.0\n",
      "Residual offset: 0.0 pixels\n"
     ]
    },
    {
     "name": "stderr",
     "output_type": "stream",
     "text": [
      "Apply shifts to final projections: 100%|██████████| 400/400 [00:03<00:00, 121.21it/s]\n"
     ]
    }
   ],
   "source": [
    "tomo.reset_workingProjections(x_size=imageSize, y_size=imageSize) #You can adjust these for tighter cropping\n",
    "tomo.standardize(isPhaseData=False)\n",
    "tomo.cross_correlate_align(tolerance=0.1, max_iterations=15, stepRatio=1, yROI_Range=None, xROI_Range=None)\n",
    "# tomo.center_projections()\n",
    "tomo.PMA(max_iterations=5, tolerance=0.05, algorithm='art', crop_bottom_center_y=imageSize, crop_bottom_center_x=imageSize)\n",
    "tomo.make_updates_shift()"
   ]
  },
  {
   "cell_type": "code",
   "execution_count": 11,
   "id": "7105ca8d",
   "metadata": {},
   "outputs": [
    {
     "data": {
      "application/vnd.jupyter.widget-view+json": {
       "model_id": "360a54e0e5de4d3892ac8e58cfdb099c",
       "version_major": 2,
       "version_minor": 0
      },
      "text/plain": [
       "HBox(children=(Play(value=0, description='Press play', interval=500, max=399), IntSlider(value=0, description=…"
      ]
     },
     "metadata": {},
     "output_type": "display_data"
    },
    {
     "data": {
      "application/vnd.jupyter.widget-view+json": {
       "model_id": "27df636d5a8c440ea87967e696d8261e",
       "version_major": 2,
       "version_minor": 0
      },
      "text/plain": [
       "Output()"
      ]
     },
     "metadata": {},
     "output_type": "display_data"
    }
   ],
   "source": [
    "tomo.makeNotebookProjMovie()"
   ]
  },
  {
   "cell_type": "code",
   "execution_count": 12,
   "id": "851c1d43",
   "metadata": {},
   "outputs": [
    {
     "name": "stdout",
     "output_type": "stream",
     "text": [
      "\n",
      "\n",
      "Using CPU-based reconstruction. Algorithm:  art\n",
      "Reconstruction completed.\n",
      "\n",
      "Good Reconstruction after alignment\n"
     ]
    },
    {
     "data": {
      "application/vnd.jupyter.widget-view+json": {
       "model_id": "a7c370a3283f4c0ba83b24561e52ce6f",
       "version_major": 2,
       "version_minor": 0
      },
      "text/plain": [
       "HBox(children=(Play(value=0, description='Press play', interval=500, max=247), IntSlider(value=0, description=…"
      ]
     },
     "metadata": {},
     "output_type": "display_data"
    },
    {
     "data": {
      "application/vnd.jupyter.widget-view+json": {
       "model_id": "f59c8b52927d4823986367b1c40307aa",
       "version_major": 2,
       "version_minor": 0
      },
      "text/plain": [
       "Output()"
      ]
     },
     "metadata": {},
     "output_type": "display_data"
    },
    {
     "name": "stdout",
     "output_type": "stream",
     "text": [
      "(248, 248, 248)\n"
     ]
    }
   ],
   "source": [
    "tomo.reconstruct(algorithm='art')\n",
    "print(\"\\nGood Reconstruction after alignment\")\n",
    "tomo.makeNotebookReconMovie()\n",
    "\n",
    "print(tomo.get_recon().shape)"
   ]
  }
 ],
 "metadata": {
  "kernelspec": {
   "display_name": "Python 3",
   "language": "python",
   "name": "python3"
  },
  "language_info": {
   "codemirror_mode": {
    "name": "ipython",
    "version": 3
   },
   "file_extension": ".py",
   "mimetype": "text/x-python",
   "name": "python",
   "nbconvert_exporter": "python",
   "pygments_lexer": "ipython3",
   "version": "3.11.0"
  }
 },
 "nbformat": 4,
 "nbformat_minor": 5
}
