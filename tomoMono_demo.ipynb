{
 "cells": [
  {
   "cell_type": "markdown",
   "id": "77b3f487-ea12-4814-982c-17981145e9c2",
   "metadata": {},
   "source": [
    "## Import libraries"
   ]
  },
  {
   "cell_type": "code",
   "execution_count": 1,
   "id": "e6a09fdd-cc67-4028-b717-336497c688d6",
   "metadata": {},
   "outputs": [],
   "source": [
    "import tomopy\n",
    "from helperFunctions import MoviePlotter\n",
    "from tomoDataClass import tomoData\n",
    "from helperFunctions import convert_to_numpy"
   ]
  },
  {
   "cell_type": "markdown",
   "id": "aa51dfbd-55e5-43e6-8846-196bc5a3420c",
   "metadata": {},
   "source": [
    "## Create Simulated Data"
   ]
  },
  {
   "cell_type": "code",
   "execution_count": 2,
   "id": "98c1addd",
   "metadata": {},
   "outputs": [],
   "source": [
    "#Set constants\n",
    "numAngles = 200 #Number of projection angles\n",
    "imageSize = 256 #Pixel size of one side of cubic array containing Shepp3D phantom"
   ]
  },
  {
   "cell_type": "code",
   "execution_count": 3,
   "id": "0753fbc5-b904-4f83-b3bf-b8f5afa75c8e",
   "metadata": {},
   "outputs": [
    {
     "name": "stdout",
     "output_type": "stream",
     "text": [
      "(256, 256, 256)\n",
      "Simulated Object\n"
     ]
    },
    {
     "data": {
      "application/vnd.jupyter.widget-view+json": {
       "model_id": "0ff703a8812a433ca9a4186772609b18",
       "version_major": 2,
       "version_minor": 0
      },
      "text/plain": [
       "HBox(children=(Play(value=0, description='Press play', interval=500, max=255), IntSlider(value=0, description=…"
      ]
     },
     "metadata": {},
     "output_type": "display_data"
    },
    {
     "data": {
      "application/vnd.jupyter.widget-view+json": {
       "model_id": "3c1d3c96a9dc4bb287904c901a5c2786",
       "version_major": 2,
       "version_minor": 0
      },
      "text/plain": [
       "Output()"
      ]
     },
     "metadata": {},
     "output_type": "display_data"
    },
    {
     "data": {
      "text/plain": [
       "<helperFunctions.MoviePlotter at 0x16eb93410>"
      ]
     },
     "execution_count": 3,
     "metadata": {},
     "output_type": "execute_result"
    }
   ],
   "source": [
    "#Create a simulated object\n",
    "obj = tomopy.shepp3d(size=imageSize)\n",
    "print(obj.shape)\n",
    "print(\"Simulated Object\")\n",
    "MoviePlotter(obj) #Plots vertical slices through the phantom"
   ]
  },
  {
   "cell_type": "code",
   "execution_count": 4,
   "id": "0a20e4e7-c5bd-41f4-a99e-c3b36f961fda",
   "metadata": {},
   "outputs": [
    {
     "name": "stdout",
     "output_type": "stream",
     "text": [
      "Projections through object\n"
     ]
    },
    {
     "data": {
      "application/vnd.jupyter.widget-view+json": {
       "model_id": "13cbba69af064ed0b88435a3c60ba5e1",
       "version_major": 2,
       "version_minor": 0
      },
      "text/plain": [
       "HBox(children=(Play(value=0, description='Press play', interval=500, max=199), IntSlider(value=0, description=…"
      ]
     },
     "metadata": {},
     "output_type": "display_data"
    },
    {
     "data": {
      "application/vnd.jupyter.widget-view+json": {
       "model_id": "ace7537e7cb84ac3ac28410112fd265d",
       "version_major": 2,
       "version_minor": 0
      },
      "text/plain": [
       "Output()"
      ]
     },
     "metadata": {},
     "output_type": "display_data"
    },
    {
     "data": {
      "text/plain": [
       "<helperFunctions.MoviePlotter at 0x181874f50>"
      ]
     },
     "execution_count": 4,
     "metadata": {},
     "output_type": "execute_result"
    }
   ],
   "source": [
    "# Set projection angles\n",
    "angles = tomopy.angles(nang=numAngles, ang1=1, ang2=360)\n",
    "\n",
    "# create projection images/sinogram\n",
    "projections = tomopy.project(obj, angles, pad=False)\n",
    "\n",
    "print(\"Projections through object\")\n",
    "MoviePlotter(projections)"
   ]
  },
  {
   "cell_type": "code",
   "execution_count": null,
   "id": "f279b093",
   "metadata": {},
   "outputs": [
    {
     "name": "stdout",
     "output_type": "stream",
     "text": [
      "Projections through Object with jitter and noise\n"
     ]
    },
    {
     "data": {
      "application/vnd.jupyter.widget-view+json": {
       "model_id": "248d29419a14401fad56754bb2bb2717",
       "version_major": 2,
       "version_minor": 0
      },
      "text/plain": [
       "HBox(children=(Play(value=0, description='Press play', interval=500, max=199), IntSlider(value=0, description=…"
      ]
     },
     "metadata": {},
     "output_type": "display_data"
    },
    {
     "data": {
      "application/vnd.jupyter.widget-view+json": {
       "model_id": "d154de2700604fbf89e33d111645281d",
       "version_major": 2,
       "version_minor": 0
      },
      "text/plain": [
       "Output()"
      ]
     },
     "metadata": {},
     "output_type": "display_data"
    }
   ],
   "source": [
    "tomo = tomoData(projections)\n",
    "tomo.jitter(maxShift = 7)\n",
    "tomo.add_noise()\n",
    "print(\"Projections through Object with jitter and noise\")\n",
    "tomo.makeNotebookProjMovie()"
   ]
  },
  {
   "cell_type": "markdown",
   "id": "4371cd56",
   "metadata": {},
   "source": [
    "## Align Data"
   ]
  },
  {
   "cell_type": "code",
   "execution_count": 6,
   "id": "c344bbf8-de5a-4ddb-b36b-dcda5bbcdfca",
   "metadata": {},
   "outputs": [
    {
     "name": "stdout",
     "output_type": "stream",
     "text": [
      "\n",
      "\n",
      "Using CPU-based reconstruction. Algorithm:  art\n",
      "Reconstruction completed.\n",
      "\n",
      "Bad reconstruction prior to alignment\n"
     ]
    },
    {
     "data": {
      "application/vnd.jupyter.widget-view+json": {
       "model_id": "66f38dc8b7364485a9fa7d0241e7831b",
       "version_major": 2,
       "version_minor": 0
      },
      "text/plain": [
       "HBox(children=(Play(value=0, description='Press play', interval=500, max=255), IntSlider(value=0, description=…"
      ]
     },
     "metadata": {},
     "output_type": "display_data"
    },
    {
     "data": {
      "application/vnd.jupyter.widget-view+json": {
       "model_id": "01aa5d3006a84a0aae842de1cc47bee9",
       "version_major": 2,
       "version_minor": 0
      },
      "text/plain": [
       "Output()"
      ]
     },
     "metadata": {},
     "output_type": "display_data"
    },
    {
     "data": {
      "text/plain": [
       "<helperFunctions.MoviePlotter at 0x181a098d0>"
      ]
     },
     "execution_count": 6,
     "metadata": {},
     "output_type": "execute_result"
    }
   ],
   "source": [
    "#Show bad reconstruction prior to alignment\n",
    "tomo.reconstruct(algorithm='art')\n",
    "print(\"\\nBad reconstruction prior to alignment\")\n",
    "badRecon = tomo.recon.copy()\n",
    "MoviePlotter(badRecon)"
   ]
  },
  {
   "cell_type": "code",
   "execution_count": 7,
   "id": "87a71348-5038-4fe6-900c-bee30ba3cd89",
   "metadata": {},
   "outputs": [
    {
     "name": "stdout",
     "output_type": "stream",
     "text": [
      "\n",
      "\n",
      "Normalizing projections\n",
      "\n",
      "\n",
      "Cross-Correlation Alignment\n"
     ]
    },
    {
     "name": "stderr",
     "output_type": "stream",
     "text": [
      "Iteration 1/max_iterations: 100%|██████████| 200/200 [00:01<00:00, 156.15it/s]\n"
     ]
    },
    {
     "name": "stdout",
     "output_type": "stream",
     "text": [
      "Average pixel shift of iteration 1: 5.215427516927926\n"
     ]
    },
    {
     "name": "stderr",
     "output_type": "stream",
     "text": [
      "Iteration 2/max_iterations: 100%|██████████| 200/200 [00:01<00:00, 183.50it/s]\n"
     ]
    },
    {
     "name": "stdout",
     "output_type": "stream",
     "text": [
      "Average pixel shift of iteration 2: 0.012071067811865475\n"
     ]
    },
    {
     "name": "stderr",
     "output_type": "stream",
     "text": [
      "Iteration 3/max_iterations: 100%|██████████| 200/200 [00:01<00:00, 196.75it/s]"
     ]
    },
    {
     "name": "stdout",
     "output_type": "stream",
     "text": [
      "Average pixel shift of iteration 3: 0.0\n",
      "Convergence reached after 3 iterations.\n",
      "Maximum iterations reached without convergence.\n",
      "\n",
      "\n",
      "Projection Matching Alignment (PMA)\n",
      "\n",
      "\n",
      "Centering Projections\n"
     ]
    },
    {
     "name": "stderr",
     "output_type": "stream",
     "text": [
      "\n"
     ]
    },
    {
     "name": "stdout",
     "output_type": "stream",
     "text": [
      "Original center: 126.5\n",
      "Center of frame: 128\n",
      "Aligned projections shifted by 1.5 pixels\n",
      "Projections are currently centered at pixel 128.0. Residual offset: 0.0\n"
     ]
    },
    {
     "name": "stderr",
     "output_type": "stream",
     "text": [
      "PMA Algorithm iterations:  20%|██        | 1/5 [00:07<00:28,  7.15s/it]"
     ]
    },
    {
     "name": "stdout",
     "output_type": "stream",
     "text": [
      "Average pixel shift of iteration 0- total:2.929433825960883, just in x:2.725, just in y: 0.67\n"
     ]
    },
    {
     "name": "stderr",
     "output_type": "stream",
     "text": [
      "PMA Algorithm iterations:  40%|████      | 2/5 [00:14<00:21,  7.23s/it]"
     ]
    },
    {
     "name": "stdout",
     "output_type": "stream",
     "text": [
      "Average pixel shift of iteration 1- total:0.7196528264283277, just in x:0.675, just in y: 0.185\n"
     ]
    },
    {
     "name": "stderr",
     "output_type": "stream",
     "text": [
      "PMA Algorithm iterations:  60%|██████    | 3/5 [00:22<00:15,  7.64s/it]"
     ]
    },
    {
     "name": "stdout",
     "output_type": "stream",
     "text": [
      "Average pixel shift of iteration 2- total:0.06, just in x:0.06, just in y: 0.0\n"
     ]
    },
    {
     "name": "stderr",
     "output_type": "stream",
     "text": [
      "PMA Algorithm iterations:  60%|██████    | 3/5 [00:31<00:21, 10.58s/it]\n"
     ]
    },
    {
     "name": "stdout",
     "output_type": "stream",
     "text": [
      "Average pixel shift of iteration 3- total:0.015, just in x:0.015, just in y: 0.0\n",
      "Convergence reached after 4 iterations.\n"
     ]
    },
    {
     "name": "stderr",
     "output_type": "stream",
     "text": [
      "Apply shifts to final projections: 100%|██████████| 200/200 [00:00<00:00, 300.60it/s]\n"
     ]
    }
   ],
   "source": [
    "tomo.reset_workingProjections(x_size=imageSize, y_size=imageSize) #You can adjust these for tighter cropping\n",
    "tomo.normalize(isPhaseData=False)\n",
    "tomo.cross_correlate_align(tolerance=0.1, max_iterations=15, stepRatio=1, yROI_Range=None, xROI_Range=None)\n",
    "tomo.PMA(max_iterations=5, tolerance=0.05, algorithm='art', crop_bottom_center_y=imageSize, crop_bottom_center_x=imageSize, standardize=False)\n",
    "tomo.make_updates_shift()"
   ]
  },
  {
   "cell_type": "code",
   "execution_count": 8,
   "id": "7105ca8d",
   "metadata": {},
   "outputs": [
    {
     "data": {
      "application/vnd.jupyter.widget-view+json": {
       "model_id": "01488001298243f699d504e7efdd5e2e",
       "version_major": 2,
       "version_minor": 0
      },
      "text/plain": [
       "HBox(children=(Play(value=0, description='Press play', interval=500, max=199), IntSlider(value=0, description=…"
      ]
     },
     "metadata": {},
     "output_type": "display_data"
    },
    {
     "data": {
      "application/vnd.jupyter.widget-view+json": {
       "model_id": "66047120e3004b6f9c1cfe7de9959a20",
       "version_major": 2,
       "version_minor": 0
      },
      "text/plain": [
       "Output()"
      ]
     },
     "metadata": {},
     "output_type": "display_data"
    }
   ],
   "source": [
    "tomo.makeNotebookProjMovie()"
   ]
  },
  {
   "cell_type": "code",
   "execution_count": 9,
   "id": "851c1d43",
   "metadata": {},
   "outputs": [
    {
     "name": "stdout",
     "output_type": "stream",
     "text": [
      "\n",
      "\n",
      "Using CPU-based reconstruction. Algorithm:  art\n",
      "Reconstruction completed.\n",
      "\n",
      "Good Reconstruction after alignment\n"
     ]
    },
    {
     "data": {
      "application/vnd.jupyter.widget-view+json": {
       "model_id": "da6eb52b997d4e91adf0dcba0e86b000",
       "version_major": 2,
       "version_minor": 0
      },
      "text/plain": [
       "HBox(children=(Play(value=0, description='Press play', interval=500, max=255), IntSlider(value=0, description=…"
      ]
     },
     "metadata": {},
     "output_type": "display_data"
    },
    {
     "data": {
      "application/vnd.jupyter.widget-view+json": {
       "model_id": "59a33b41760a4aae86bfe48f4f540eea",
       "version_major": 2,
       "version_minor": 0
      },
      "text/plain": [
       "Output()"
      ]
     },
     "metadata": {},
     "output_type": "display_data"
    }
   ],
   "source": [
    "tomo.reconstruct(algorithm='art')\n",
    "print(\"\\nGood Reconstruction after alignment\")\n",
    "tomo.makeNotebookReconMovie()"
   ]
  }
 ],
 "metadata": {
  "kernelspec": {
   "display_name": "Python 3",
   "language": "python",
   "name": "python3"
  },
  "language_info": {
   "codemirror_mode": {
    "name": "ipython",
    "version": 3
   },
   "file_extension": ".py",
   "mimetype": "text/x-python",
   "name": "python",
   "nbconvert_exporter": "python",
   "pygments_lexer": "ipython3",
   "version": "3.11.0"
  }
 },
 "nbformat": 4,
 "nbformat_minor": 5
}
